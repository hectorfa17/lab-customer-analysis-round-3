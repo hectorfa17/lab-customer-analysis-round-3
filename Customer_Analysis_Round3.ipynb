{
 "cells": [
  {
   "cell_type": "markdown",
   "id": "2edbebff",
   "metadata": {},
   "source": [
    "# Lab | Customer Analysis Round 3"
   ]
  },
  {
   "cell_type": "code",
   "execution_count": 5,
   "id": "2057cf9b",
   "metadata": {
    "ExecuteTime": {
     "end_time": "2022-04-11T11:32:59.509147Z",
     "start_time": "2022-04-11T11:32:59.503360Z"
    }
   },
   "outputs": [],
   "source": [
    "import numpy as np\n",
    "import pandas as pd\n",
    "import matplotlib.pyplot as plt\n",
    "import seaborn as sns\n",
    "%matplotlib inline"
   ]
  },
  {
   "cell_type": "markdown",
   "id": "0fc3feba",
   "metadata": {},
   "source": [
    "## Import dataset:"
   ]
  },
  {
   "cell_type": "code",
   "execution_count": 6,
   "id": "3821f901",
   "metadata": {
    "ExecuteTime": {
     "end_time": "2022-04-11T11:32:59.742860Z",
     "start_time": "2022-04-11T11:32:59.516172Z"
    }
   },
   "outputs": [
    {
     "data": {
      "text/html": [
       "<div>\n",
       "<style scoped>\n",
       "    .dataframe tbody tr th:only-of-type {\n",
       "        vertical-align: middle;\n",
       "    }\n",
       "\n",
       "    .dataframe tbody tr th {\n",
       "        vertical-align: top;\n",
       "    }\n",
       "\n",
       "    .dataframe thead th {\n",
       "        text-align: right;\n",
       "    }\n",
       "</style>\n",
       "<table border=\"1\" class=\"dataframe\">\n",
       "  <thead>\n",
       "    <tr style=\"text-align: right;\">\n",
       "      <th></th>\n",
       "      <th>Customer</th>\n",
       "      <th>State</th>\n",
       "      <th>Customer Lifetime Value</th>\n",
       "      <th>Response</th>\n",
       "      <th>Coverage</th>\n",
       "      <th>Education</th>\n",
       "      <th>Effective To Date</th>\n",
       "      <th>EmploymentStatus</th>\n",
       "      <th>Gender</th>\n",
       "      <th>Income</th>\n",
       "      <th>...</th>\n",
       "      <th>Months Since Policy Inception</th>\n",
       "      <th>Number of Open Complaints</th>\n",
       "      <th>Number of Policies</th>\n",
       "      <th>Policy Type</th>\n",
       "      <th>Policy</th>\n",
       "      <th>Renew Offer Type</th>\n",
       "      <th>Sales Channel</th>\n",
       "      <th>Total Claim Amount</th>\n",
       "      <th>Vehicle Class</th>\n",
       "      <th>Vehicle Size</th>\n",
       "    </tr>\n",
       "  </thead>\n",
       "  <tbody>\n",
       "    <tr>\n",
       "      <th>0</th>\n",
       "      <td>BU79786</td>\n",
       "      <td>Washington</td>\n",
       "      <td>2763.519279</td>\n",
       "      <td>No</td>\n",
       "      <td>Basic</td>\n",
       "      <td>Bachelor</td>\n",
       "      <td>2/24/11</td>\n",
       "      <td>Employed</td>\n",
       "      <td>F</td>\n",
       "      <td>56274</td>\n",
       "      <td>...</td>\n",
       "      <td>5</td>\n",
       "      <td>0</td>\n",
       "      <td>1</td>\n",
       "      <td>Corporate Auto</td>\n",
       "      <td>Corporate L3</td>\n",
       "      <td>Offer1</td>\n",
       "      <td>Agent</td>\n",
       "      <td>384.811147</td>\n",
       "      <td>Two-Door Car</td>\n",
       "      <td>Medsize</td>\n",
       "    </tr>\n",
       "    <tr>\n",
       "      <th>1</th>\n",
       "      <td>QZ44356</td>\n",
       "      <td>Arizona</td>\n",
       "      <td>6979.535903</td>\n",
       "      <td>No</td>\n",
       "      <td>Extended</td>\n",
       "      <td>Bachelor</td>\n",
       "      <td>1/31/11</td>\n",
       "      <td>Unemployed</td>\n",
       "      <td>F</td>\n",
       "      <td>0</td>\n",
       "      <td>...</td>\n",
       "      <td>42</td>\n",
       "      <td>0</td>\n",
       "      <td>8</td>\n",
       "      <td>Personal Auto</td>\n",
       "      <td>Personal L3</td>\n",
       "      <td>Offer3</td>\n",
       "      <td>Agent</td>\n",
       "      <td>1131.464935</td>\n",
       "      <td>Four-Door Car</td>\n",
       "      <td>Medsize</td>\n",
       "    </tr>\n",
       "    <tr>\n",
       "      <th>2</th>\n",
       "      <td>AI49188</td>\n",
       "      <td>Nevada</td>\n",
       "      <td>12887.431650</td>\n",
       "      <td>No</td>\n",
       "      <td>Premium</td>\n",
       "      <td>Bachelor</td>\n",
       "      <td>2/19/11</td>\n",
       "      <td>Employed</td>\n",
       "      <td>F</td>\n",
       "      <td>48767</td>\n",
       "      <td>...</td>\n",
       "      <td>38</td>\n",
       "      <td>0</td>\n",
       "      <td>2</td>\n",
       "      <td>Personal Auto</td>\n",
       "      <td>Personal L3</td>\n",
       "      <td>Offer1</td>\n",
       "      <td>Agent</td>\n",
       "      <td>566.472247</td>\n",
       "      <td>Two-Door Car</td>\n",
       "      <td>Medsize</td>\n",
       "    </tr>\n",
       "    <tr>\n",
       "      <th>3</th>\n",
       "      <td>WW63253</td>\n",
       "      <td>California</td>\n",
       "      <td>7645.861827</td>\n",
       "      <td>No</td>\n",
       "      <td>Basic</td>\n",
       "      <td>Bachelor</td>\n",
       "      <td>1/20/11</td>\n",
       "      <td>Unemployed</td>\n",
       "      <td>M</td>\n",
       "      <td>0</td>\n",
       "      <td>...</td>\n",
       "      <td>65</td>\n",
       "      <td>0</td>\n",
       "      <td>7</td>\n",
       "      <td>Corporate Auto</td>\n",
       "      <td>Corporate L2</td>\n",
       "      <td>Offer1</td>\n",
       "      <td>Call Center</td>\n",
       "      <td>529.881344</td>\n",
       "      <td>SUV</td>\n",
       "      <td>Medsize</td>\n",
       "    </tr>\n",
       "    <tr>\n",
       "      <th>4</th>\n",
       "      <td>HB64268</td>\n",
       "      <td>Washington</td>\n",
       "      <td>2813.692575</td>\n",
       "      <td>No</td>\n",
       "      <td>Basic</td>\n",
       "      <td>Bachelor</td>\n",
       "      <td>2/3/11</td>\n",
       "      <td>Employed</td>\n",
       "      <td>M</td>\n",
       "      <td>43836</td>\n",
       "      <td>...</td>\n",
       "      <td>44</td>\n",
       "      <td>0</td>\n",
       "      <td>1</td>\n",
       "      <td>Personal Auto</td>\n",
       "      <td>Personal L1</td>\n",
       "      <td>Offer1</td>\n",
       "      <td>Agent</td>\n",
       "      <td>138.130879</td>\n",
       "      <td>Four-Door Car</td>\n",
       "      <td>Medsize</td>\n",
       "    </tr>\n",
       "  </tbody>\n",
       "</table>\n",
       "<p>5 rows × 24 columns</p>\n",
       "</div>"
      ],
      "text/plain": [
       "  Customer       State  Customer Lifetime Value Response  Coverage Education  \\\n",
       "0  BU79786  Washington              2763.519279       No     Basic  Bachelor   \n",
       "1  QZ44356     Arizona              6979.535903       No  Extended  Bachelor   \n",
       "2  AI49188      Nevada             12887.431650       No   Premium  Bachelor   \n",
       "3  WW63253  California              7645.861827       No     Basic  Bachelor   \n",
       "4  HB64268  Washington              2813.692575       No     Basic  Bachelor   \n",
       "\n",
       "  Effective To Date EmploymentStatus Gender  Income  ...  \\\n",
       "0           2/24/11         Employed      F   56274  ...   \n",
       "1           1/31/11       Unemployed      F       0  ...   \n",
       "2           2/19/11         Employed      F   48767  ...   \n",
       "3           1/20/11       Unemployed      M       0  ...   \n",
       "4            2/3/11         Employed      M   43836  ...   \n",
       "\n",
       "  Months Since Policy Inception Number of Open Complaints  Number of Policies  \\\n",
       "0                             5                         0                   1   \n",
       "1                            42                         0                   8   \n",
       "2                            38                         0                   2   \n",
       "3                            65                         0                   7   \n",
       "4                            44                         0                   1   \n",
       "\n",
       "      Policy Type        Policy  Renew Offer Type  Sales Channel  \\\n",
       "0  Corporate Auto  Corporate L3            Offer1          Agent   \n",
       "1   Personal Auto   Personal L3            Offer3          Agent   \n",
       "2   Personal Auto   Personal L3            Offer1          Agent   \n",
       "3  Corporate Auto  Corporate L2            Offer1    Call Center   \n",
       "4   Personal Auto   Personal L1            Offer1          Agent   \n",
       "\n",
       "  Total Claim Amount  Vehicle Class Vehicle Size  \n",
       "0         384.811147   Two-Door Car      Medsize  \n",
       "1        1131.464935  Four-Door Car      Medsize  \n",
       "2         566.472247   Two-Door Car      Medsize  \n",
       "3         529.881344            SUV      Medsize  \n",
       "4         138.130879  Four-Door Car      Medsize  \n",
       "\n",
       "[5 rows x 24 columns]"
      ]
     },
     "execution_count": 6,
     "metadata": {},
     "output_type": "execute_result"
    }
   ],
   "source": [
    "data = pd.read_csv('/Users/Hector_Martin/Documents/Labs/linear regression/lab-customer-analysis-round-3/files_for_lab/csv_files/marketing_customer_analysis.csv')\n",
    "\n",
    "#Creating a copy of the DataFrame to work with:\n",
    "datasafe = data.copy()\n",
    "datasafe.head()"
   ]
  },
  {
   "cell_type": "markdown",
   "id": "a2cac320",
   "metadata": {},
   "source": [
    "## Show DataFrame info:"
   ]
  },
  {
   "cell_type": "code",
   "execution_count": 7,
   "id": "28815e26",
   "metadata": {
    "ExecuteTime": {
     "end_time": "2022-04-11T11:32:59.798386Z",
     "start_time": "2022-04-11T11:32:59.745449Z"
    }
   },
   "outputs": [
    {
     "name": "stdout",
     "output_type": "stream",
     "text": [
      "<class 'pandas.core.frame.DataFrame'>\n",
      "RangeIndex: 9134 entries, 0 to 9133\n",
      "Data columns (total 24 columns):\n",
      " #   Column                         Non-Null Count  Dtype  \n",
      "---  ------                         --------------  -----  \n",
      " 0   Customer                       9134 non-null   object \n",
      " 1   State                          9134 non-null   object \n",
      " 2   Customer Lifetime Value        9134 non-null   float64\n",
      " 3   Response                       9134 non-null   object \n",
      " 4   Coverage                       9134 non-null   object \n",
      " 5   Education                      9134 non-null   object \n",
      " 6   Effective To Date              9134 non-null   object \n",
      " 7   EmploymentStatus               9134 non-null   object \n",
      " 8   Gender                         9134 non-null   object \n",
      " 9   Income                         9134 non-null   int64  \n",
      " 10  Location Code                  9134 non-null   object \n",
      " 11  Marital Status                 9134 non-null   object \n",
      " 12  Monthly Premium Auto           9134 non-null   int64  \n",
      " 13  Months Since Last Claim        9134 non-null   int64  \n",
      " 14  Months Since Policy Inception  9134 non-null   int64  \n",
      " 15  Number of Open Complaints      9134 non-null   int64  \n",
      " 16  Number of Policies             9134 non-null   int64  \n",
      " 17  Policy Type                    9134 non-null   object \n",
      " 18  Policy                         9134 non-null   object \n",
      " 19  Renew Offer Type               9134 non-null   object \n",
      " 20  Sales Channel                  9134 non-null   object \n",
      " 21  Total Claim Amount             9134 non-null   float64\n",
      " 22  Vehicle Class                  9134 non-null   object \n",
      " 23  Vehicle Size                   9134 non-null   object \n",
      "dtypes: float64(2), int64(6), object(16)\n",
      "memory usage: 1.7+ MB\n"
     ]
    }
   ],
   "source": [
    "datasafe.info()"
   ]
  },
  {
   "cell_type": "markdown",
   "id": "5e08322b",
   "metadata": {},
   "source": [
    "## Describe DataFrame:"
   ]
  },
  {
   "cell_type": "markdown",
   "id": "3e2645c4",
   "metadata": {},
   "source": [
    "### Let's use tge Describe method alongside the \"T\" Transpose function to see the Statistical values as columns:"
   ]
  },
  {
   "cell_type": "code",
   "execution_count": 8,
   "id": "46bb5584",
   "metadata": {
    "ExecuteTime": {
     "end_time": "2022-04-11T11:32:59.869201Z",
     "start_time": "2022-04-11T11:32:59.805649Z"
    }
   },
   "outputs": [
    {
     "data": {
      "text/html": [
       "<div>\n",
       "<style scoped>\n",
       "    .dataframe tbody tr th:only-of-type {\n",
       "        vertical-align: middle;\n",
       "    }\n",
       "\n",
       "    .dataframe tbody tr th {\n",
       "        vertical-align: top;\n",
       "    }\n",
       "\n",
       "    .dataframe thead th {\n",
       "        text-align: right;\n",
       "    }\n",
       "</style>\n",
       "<table border=\"1\" class=\"dataframe\">\n",
       "  <thead>\n",
       "    <tr style=\"text-align: right;\">\n",
       "      <th></th>\n",
       "      <th>count</th>\n",
       "      <th>mean</th>\n",
       "      <th>std</th>\n",
       "      <th>min</th>\n",
       "      <th>25%</th>\n",
       "      <th>50%</th>\n",
       "      <th>75%</th>\n",
       "      <th>max</th>\n",
       "    </tr>\n",
       "  </thead>\n",
       "  <tbody>\n",
       "    <tr>\n",
       "      <th>Customer Lifetime Value</th>\n",
       "      <td>9134.0</td>\n",
       "      <td>8004.940475</td>\n",
       "      <td>6870.967608</td>\n",
       "      <td>1898.007675</td>\n",
       "      <td>3994.251794</td>\n",
       "      <td>5780.182197</td>\n",
       "      <td>8962.167041</td>\n",
       "      <td>83325.381190</td>\n",
       "    </tr>\n",
       "    <tr>\n",
       "      <th>Income</th>\n",
       "      <td>9134.0</td>\n",
       "      <td>37657.380009</td>\n",
       "      <td>30379.904734</td>\n",
       "      <td>0.000000</td>\n",
       "      <td>0.000000</td>\n",
       "      <td>33889.500000</td>\n",
       "      <td>62320.000000</td>\n",
       "      <td>99981.000000</td>\n",
       "    </tr>\n",
       "    <tr>\n",
       "      <th>Monthly Premium Auto</th>\n",
       "      <td>9134.0</td>\n",
       "      <td>93.219291</td>\n",
       "      <td>34.407967</td>\n",
       "      <td>61.000000</td>\n",
       "      <td>68.000000</td>\n",
       "      <td>83.000000</td>\n",
       "      <td>109.000000</td>\n",
       "      <td>298.000000</td>\n",
       "    </tr>\n",
       "    <tr>\n",
       "      <th>Months Since Last Claim</th>\n",
       "      <td>9134.0</td>\n",
       "      <td>15.097000</td>\n",
       "      <td>10.073257</td>\n",
       "      <td>0.000000</td>\n",
       "      <td>6.000000</td>\n",
       "      <td>14.000000</td>\n",
       "      <td>23.000000</td>\n",
       "      <td>35.000000</td>\n",
       "    </tr>\n",
       "    <tr>\n",
       "      <th>Months Since Policy Inception</th>\n",
       "      <td>9134.0</td>\n",
       "      <td>48.064594</td>\n",
       "      <td>27.905991</td>\n",
       "      <td>0.000000</td>\n",
       "      <td>24.000000</td>\n",
       "      <td>48.000000</td>\n",
       "      <td>71.000000</td>\n",
       "      <td>99.000000</td>\n",
       "    </tr>\n",
       "    <tr>\n",
       "      <th>Number of Open Complaints</th>\n",
       "      <td>9134.0</td>\n",
       "      <td>0.384388</td>\n",
       "      <td>0.910384</td>\n",
       "      <td>0.000000</td>\n",
       "      <td>0.000000</td>\n",
       "      <td>0.000000</td>\n",
       "      <td>0.000000</td>\n",
       "      <td>5.000000</td>\n",
       "    </tr>\n",
       "    <tr>\n",
       "      <th>Number of Policies</th>\n",
       "      <td>9134.0</td>\n",
       "      <td>2.966170</td>\n",
       "      <td>2.390182</td>\n",
       "      <td>1.000000</td>\n",
       "      <td>1.000000</td>\n",
       "      <td>2.000000</td>\n",
       "      <td>4.000000</td>\n",
       "      <td>9.000000</td>\n",
       "    </tr>\n",
       "    <tr>\n",
       "      <th>Total Claim Amount</th>\n",
       "      <td>9134.0</td>\n",
       "      <td>434.088794</td>\n",
       "      <td>290.500092</td>\n",
       "      <td>0.099007</td>\n",
       "      <td>272.258244</td>\n",
       "      <td>383.945434</td>\n",
       "      <td>547.514839</td>\n",
       "      <td>2893.239678</td>\n",
       "    </tr>\n",
       "  </tbody>\n",
       "</table>\n",
       "</div>"
      ],
      "text/plain": [
       "                                count          mean           std  \\\n",
       "Customer Lifetime Value        9134.0   8004.940475   6870.967608   \n",
       "Income                         9134.0  37657.380009  30379.904734   \n",
       "Monthly Premium Auto           9134.0     93.219291     34.407967   \n",
       "Months Since Last Claim        9134.0     15.097000     10.073257   \n",
       "Months Since Policy Inception  9134.0     48.064594     27.905991   \n",
       "Number of Open Complaints      9134.0      0.384388      0.910384   \n",
       "Number of Policies             9134.0      2.966170      2.390182   \n",
       "Total Claim Amount             9134.0    434.088794    290.500092   \n",
       "\n",
       "                                       min          25%           50%  \\\n",
       "Customer Lifetime Value        1898.007675  3994.251794   5780.182197   \n",
       "Income                            0.000000     0.000000  33889.500000   \n",
       "Monthly Premium Auto             61.000000    68.000000     83.000000   \n",
       "Months Since Last Claim           0.000000     6.000000     14.000000   \n",
       "Months Since Policy Inception     0.000000    24.000000     48.000000   \n",
       "Number of Open Complaints         0.000000     0.000000      0.000000   \n",
       "Number of Policies                1.000000     1.000000      2.000000   \n",
       "Total Claim Amount                0.099007   272.258244    383.945434   \n",
       "\n",
       "                                        75%           max  \n",
       "Customer Lifetime Value         8962.167041  83325.381190  \n",
       "Income                         62320.000000  99981.000000  \n",
       "Monthly Premium Auto             109.000000    298.000000  \n",
       "Months Since Last Claim           23.000000     35.000000  \n",
       "Months Since Policy Inception     71.000000     99.000000  \n",
       "Number of Open Complaints          0.000000      5.000000  \n",
       "Number of Policies                 4.000000      9.000000  \n",
       "Total Claim Amount               547.514839   2893.239678  "
      ]
     },
     "execution_count": 8,
     "metadata": {},
     "output_type": "execute_result"
    }
   ],
   "source": [
    "datasafe.describe().T"
   ]
  },
  {
   "cell_type": "markdown",
   "id": "7d11fa7f",
   "metadata": {},
   "source": [
    "## Show a plot of the total number of responses:"
   ]
  },
  {
   "cell_type": "code",
   "execution_count": 9,
   "id": "bd9df10d",
   "metadata": {
    "ExecuteTime": {
     "end_time": "2022-04-11T11:33:00.191981Z",
     "start_time": "2022-04-11T11:32:59.885526Z"
    }
   },
   "outputs": [
    {
     "data": {
      "image/png": "[encoded data removed]",
      "text/plain": [
       "<Figure size 432x288 with 1 Axes>"
      ]
     },
     "metadata": {
      "needs_background": "light"
     },
     "output_type": "display_data"
    }
   ],
   "source": [
    "ax = sns.countplot(x=\"Response\", hue=\"Response\", data=datasafe, palette='Set1')"
   ]
  },
  {
   "cell_type": "markdown",
   "id": "49c0ec90",
   "metadata": {},
   "source": [
    "## Show a plot of the response rate by the sales channel:"
   ]
  },
  {
   "cell_type": "code",
   "execution_count": 12,
   "id": "4f8bf138",
   "metadata": {
    "ExecuteTime": {
     "end_time": "2022-04-11T11:35:42.357277Z",
     "start_time": "2022-04-11T11:35:42.145472Z"
    }
   },
   "outputs": [
    {
     "data": {
      "text/plain": [
       "<AxesSubplot:xlabel='Sales Channel', ylabel='count'>"
      ]
     },
     "execution_count": 12,
     "metadata": {},
     "output_type": "execute_result"
    },
    {
     "data": {
      "image/png": "[encoded data removed]",
      "text/plain": [
       "<Figure size 432x288 with 1 Axes>"
      ]
     },
     "metadata": {
      "needs_background": "light"
     },
     "output_type": "display_data"
    }
   ],
   "source": [
    "sns.countplot(x=\"Sales Channel\", hue=\"Response\", data=datasafe, palette ='Set2')"
   ]
  },
  {
   "cell_type": "markdown",
   "id": "ae9ef97c",
   "metadata": {},
   "source": [
    "## Show a plot of the response rate by the total claim amount:"
   ]
  },
  {
   "cell_type": "code",
   "execution_count": 13,
   "id": "1378c6f1",
   "metadata": {
    "ExecuteTime": {
     "end_time": "2022-04-11T11:35:43.996982Z",
     "start_time": "2022-04-11T11:35:43.785356Z"
    }
   },
   "outputs": [
    {
     "data": {
      "text/plain": [
       "<AxesSubplot:xlabel='Total Claim Amount', ylabel='Response'>"
      ]
     },
     "execution_count": 13,
     "metadata": {},
     "output_type": "execute_result"
    },
    {
     "data": {
      "image/png": "[encoded data removed]",
      "text/plain": [
       "<Figure size 432x288 with 1 Axes>"
      ]
     },
     "metadata": {
      "needs_background": "light"
     },
     "output_type": "display_data"
    }
   ],
   "source": [
    "sns.stripplot(x=\"Total Claim Amount\", y=\"Response\", palette=\"Set1\", data=datasafe)"
   ]
  },
  {
   "cell_type": "markdown",
   "id": "bab4ad30",
   "metadata": {},
   "source": [
    "## Show a plot of the response rate by income:"
   ]
  },
  {
   "cell_type": "code",
   "execution_count": 10,
   "id": "b4da6705",
   "metadata": {},
   "outputs": [
    {
     "data": {
      "image/png": "[encoded data removed]",
      "text/plain": [
       "<Figure size 432x288 with 1 Axes>"
      ]
     },
     "metadata": {
      "needs_background": "light"
     },
     "output_type": "display_data"
    }
   ],
   "source": [
    "sns.stripplot(x=\"Income\", y=\"Response\", palette=\"Set2\", data=datasafe)"
   ]
  }
 ],
 "metadata": {
  "kernelspec": {
   "display_name": "Python 3 (ipykernel)",
   "language": "python",
   "name": "python3"
  },
  "language_info": {
   "codemirror_mode": {
    "name": "ipython",
    "version": 3
   },
   "file_extension": ".py",
   "mimetype": "text/x-python",
   "name": "python",
   "nbconvert_exporter": "python",
   "pygments_lexer": "ipython3",
   "version": "3.9.12"
  },
  "toc": {
   "base_numbering": 1,
   "nav_menu": {},
   "number_sections": true,
   "sideBar": true,
   "skip_h1_title": false,
   "title_cell": "Table of Contents",
   "title_sidebar": "Contents",
   "toc_cell": false,
   "toc_position": {
    "height": "calc(100% - 180px)",
    "left": "10px",
    "top": "150px",
    "width": "256px"
   },
   "toc_section_display": true,
   "toc_window_display": true
  }
 },
 "nbformat": 4,
 "nbformat_minor": 5
}
